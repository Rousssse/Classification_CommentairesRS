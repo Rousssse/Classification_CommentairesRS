{
 "cells": [
  {
   "cell_type": "code",
   "execution_count": 1,
   "id": "64e0d00e-9911-4da9-9cf1-5e7c5be313a4",
   "metadata": {},
   "outputs": [],
   "source": [
    "import os\n",
    "import pandas as pd\n",
    "import tensorflow as tf\n",
    "import numpy as np\n",
    "from tensorflow.keras.layers import TextVectorization"
   ]
  },
  {
   "cell_type": "code",
   "execution_count": 2,
   "id": "d206575e-f798-4a72-9d2a-9dc74389c648",
   "metadata": {},
   "outputs": [
    {
     "name": "stdout",
     "output_type": "stream",
     "text": [
      "Model: \"sequential\"\n",
      "_________________________________________________________________\n",
      " Layer (type)                Output Shape              Param #   \n",
      "=================================================================\n",
      " embedding (Embedding)       (None, None, 32)          6400032   \n",
      "                                                                 \n",
      " bidirectional (Bidirection  (None, 64)                16640     \n",
      " al)                                                             \n",
      "                                                                 \n",
      " dense (Dense)               (None, 128)               8320      \n",
      "                                                                 \n",
      " dense_1 (Dense)             (None, 256)               33024     \n",
      "                                                                 \n",
      " dense_2 (Dense)             (None, 128)               32896     \n",
      "                                                                 \n",
      " dense_3 (Dense)             (None, 4)                 516       \n",
      "                                                                 \n",
      "=================================================================\n",
      "Total params: 6491428 (24.76 MB)\n",
      "Trainable params: 6491428 (24.76 MB)\n",
      "Non-trainable params: 0 (0.00 Byte)\n",
      "_________________________________________________________________\n",
      "Epoch 1/50\n",
      "9/9 [==============================] - 11s 795ms/step - loss: 0.6650 - val_loss: 0.6095\n",
      "Epoch 2/50\n",
      "9/9 [==============================] - 6s 654ms/step - loss: 0.5006 - val_loss: 0.3691\n",
      "Epoch 3/50\n",
      "9/9 [==============================] - 6s 652ms/step - loss: 0.4877 - val_loss: 0.4418\n",
      "Epoch 4/50\n",
      "9/9 [==============================] - 6s 652ms/step - loss: 0.4660 - val_loss: 0.3513\n",
      "Epoch 5/50\n",
      "9/9 [==============================] - 6s 667ms/step - loss: 0.4514 - val_loss: 0.4492\n",
      "Epoch 6/50\n",
      "9/9 [==============================] - 6s 660ms/step - loss: 0.4538 - val_loss: 0.5610\n",
      "Epoch 7/50\n",
      "9/9 [==============================] - 6s 662ms/step - loss: 0.4165 - val_loss: 0.3796\n",
      "Epoch 8/50\n",
      "9/9 [==============================] - 6s 661ms/step - loss: 0.3664 - val_loss: 0.2812\n",
      "Epoch 9/50\n",
      "9/9 [==============================] - 6s 670ms/step - loss: 0.3174 - val_loss: 0.2552\n",
      "Epoch 10/50\n",
      "9/9 [==============================] - 6s 677ms/step - loss: 0.2664 - val_loss: 0.2424\n",
      "Epoch 11/50\n",
      "9/9 [==============================] - 6s 685ms/step - loss: 0.2083 - val_loss: 0.1146\n",
      "Epoch 12/50\n",
      "9/9 [==============================] - 6s 693ms/step - loss: 0.1865 - val_loss: 0.1322\n",
      "Epoch 13/50\n",
      "9/9 [==============================] - 6s 684ms/step - loss: 0.1556 - val_loss: 0.1261\n",
      "Epoch 14/50\n",
      "9/9 [==============================] - 6s 681ms/step - loss: 0.1097 - val_loss: 0.1517\n",
      "Epoch 15/50\n",
      "9/9 [==============================] - 6s 677ms/step - loss: 0.1251 - val_loss: 0.1248\n",
      "Epoch 16/50\n",
      "9/9 [==============================] - 6s 718ms/step - loss: 0.0952 - val_loss: 0.1276\n",
      "Epoch 17/50\n",
      "9/9 [==============================] - 7s 769ms/step - loss: 0.1049 - val_loss: 0.1121\n",
      "Epoch 18/50\n",
      "9/9 [==============================] - 6s 712ms/step - loss: 0.1084 - val_loss: 0.0251\n",
      "Epoch 19/50\n",
      "9/9 [==============================] - 6s 680ms/step - loss: 0.1018 - val_loss: 0.0536\n",
      "Epoch 20/50\n",
      "9/9 [==============================] - 6s 678ms/step - loss: 0.0776 - val_loss: 0.1020\n",
      "Epoch 21/50\n",
      "9/9 [==============================] - 6s 685ms/step - loss: 0.0850 - val_loss: 0.0709\n",
      "Epoch 22/50\n",
      "9/9 [==============================] - 6s 683ms/step - loss: 0.0842 - val_loss: 0.0878\n",
      "Epoch 23/50\n",
      "9/9 [==============================] - 6s 678ms/step - loss: 0.0893 - val_loss: 0.0597\n",
      "Epoch 24/50\n",
      "9/9 [==============================] - 6s 679ms/step - loss: 0.0739 - val_loss: 0.0198\n",
      "Epoch 25/50\n",
      "9/9 [==============================] - 6s 702ms/step - loss: 0.0879 - val_loss: 0.0874\n",
      "Epoch 26/50\n",
      "9/9 [==============================] - 6s 684ms/step - loss: 0.0918 - val_loss: 0.0658\n",
      "Epoch 27/50\n",
      "9/9 [==============================] - 6s 684ms/step - loss: 0.0885 - val_loss: 0.1424\n",
      "Epoch 28/50\n",
      "9/9 [==============================] - 6s 685ms/step - loss: 0.0686 - val_loss: 0.0961\n",
      "Epoch 29/50\n",
      "9/9 [==============================] - 6s 681ms/step - loss: 0.0761 - val_loss: 0.0769\n",
      "Epoch 30/50\n",
      "9/9 [==============================] - 6s 680ms/step - loss: 0.0795 - val_loss: 0.0094\n",
      "Epoch 31/50\n",
      "9/9 [==============================] - 6s 695ms/step - loss: 0.0797 - val_loss: 0.0845\n",
      "Epoch 32/50\n",
      "9/9 [==============================] - 6s 684ms/step - loss: 0.0627 - val_loss: 0.0476\n",
      "Epoch 33/50\n",
      "9/9 [==============================] - 6s 689ms/step - loss: 0.0675 - val_loss: 0.0334\n",
      "Epoch 34/50\n",
      "9/9 [==============================] - 6s 681ms/step - loss: 0.0639 - val_loss: 0.0290\n",
      "Epoch 35/50\n",
      "9/9 [==============================] - 6s 685ms/step - loss: 0.0506 - val_loss: 0.0310\n",
      "Epoch 36/50\n",
      "9/9 [==============================] - 6s 683ms/step - loss: 0.1283 - val_loss: 0.1134\n",
      "Epoch 37/50\n",
      "9/9 [==============================] - 6s 687ms/step - loss: 0.1261 - val_loss: 0.0399\n",
      "Epoch 38/50\n",
      "9/9 [==============================] - 6s 702ms/step - loss: 0.1089 - val_loss: 0.0679\n",
      "Epoch 39/50\n",
      "9/9 [==============================] - 6s 683ms/step - loss: 0.0639 - val_loss: 0.0412\n",
      "Epoch 40/50\n",
      "9/9 [==============================] - 6s 686ms/step - loss: 0.0583 - val_loss: 0.0451\n",
      "Epoch 41/50\n",
      "9/9 [==============================] - 6s 686ms/step - loss: 0.0435 - val_loss: 0.0471\n",
      "Epoch 42/50\n",
      "9/9 [==============================] - 6s 682ms/step - loss: 0.0392 - val_loss: 0.0461\n",
      "Epoch 43/50\n",
      "9/9 [==============================] - 6s 694ms/step - loss: 0.0451 - val_loss: 0.0200\n",
      "Epoch 44/50\n",
      "9/9 [==============================] - 6s 679ms/step - loss: 0.0317 - val_loss: 0.0301\n",
      "Epoch 45/50\n",
      "9/9 [==============================] - 6s 692ms/step - loss: 0.0288 - val_loss: 0.0175\n",
      "Epoch 46/50\n",
      "9/9 [==============================] - 6s 691ms/step - loss: 0.0204 - val_loss: 0.0272\n",
      "Epoch 47/50\n",
      "9/9 [==============================] - 6s 689ms/step - loss: 0.0276 - val_loss: 0.0140\n",
      "Epoch 48/50\n",
      "9/9 [==============================] - 6s 683ms/step - loss: 0.0199 - val_loss: 0.0054\n",
      "Epoch 49/50\n",
      "9/9 [==============================] - 6s 686ms/step - loss: 0.0215 - val_loss: 0.0104\n",
      "Epoch 50/50\n",
      "9/9 [==============================] - 6s 686ms/step - loss: 0.0158 - val_loss: 0.0082\n"
     ]
    },
    {
     "data": {
      "text/plain": [
       "{'loss': [0.6649811863899231,\n",
       "  0.500607967376709,\n",
       "  0.4876873195171356,\n",
       "  0.46599408984184265,\n",
       "  0.4514164328575134,\n",
       "  0.45375266671180725,\n",
       "  0.416542649269104,\n",
       "  0.3663748502731323,\n",
       "  0.3174492418766022,\n",
       "  0.26644590497016907,\n",
       "  0.20831318199634552,\n",
       "  0.18650926649570465,\n",
       "  0.15563660860061646,\n",
       "  0.10968440026044846,\n",
       "  0.1250646710395813,\n",
       "  0.0951600968837738,\n",
       "  0.10494542866945267,\n",
       "  0.10835441946983337,\n",
       "  0.10175912082195282,\n",
       "  0.07761300355195999,\n",
       "  0.08502419292926788,\n",
       "  0.08419961482286453,\n",
       "  0.08926379680633545,\n",
       "  0.07392778992652893,\n",
       "  0.08794969320297241,\n",
       "  0.09176084399223328,\n",
       "  0.08852925151586533,\n",
       "  0.06862760335206985,\n",
       "  0.07614513486623764,\n",
       "  0.07952173054218292,\n",
       "  0.07967551797628403,\n",
       "  0.0627032145857811,\n",
       "  0.06753960251808167,\n",
       "  0.06392178684473038,\n",
       "  0.05057630315423012,\n",
       "  0.1283441185951233,\n",
       "  0.1261080950498581,\n",
       "  0.10892543196678162,\n",
       "  0.06394679844379425,\n",
       "  0.05830276012420654,\n",
       "  0.043520018458366394,\n",
       "  0.03916442021727562,\n",
       "  0.04511323943734169,\n",
       "  0.03172659873962402,\n",
       "  0.028764687478542328,\n",
       "  0.020422926172614098,\n",
       "  0.027592364698648453,\n",
       "  0.019916420802474022,\n",
       "  0.02151675336062908,\n",
       "  0.015800075605511665],\n",
       " 'val_loss': [0.6095142960548401,\n",
       "  0.36907288432121277,\n",
       "  0.44183194637298584,\n",
       "  0.3512973189353943,\n",
       "  0.44916799664497375,\n",
       "  0.5610294342041016,\n",
       "  0.37955939769744873,\n",
       "  0.2812395989894867,\n",
       "  0.25516194105148315,\n",
       "  0.24238550662994385,\n",
       "  0.11463527381420135,\n",
       "  0.13216321170330048,\n",
       "  0.1261410415172577,\n",
       "  0.15165811777114868,\n",
       "  0.12477913498878479,\n",
       "  0.12760353088378906,\n",
       "  0.11207962036132812,\n",
       "  0.025136936455965042,\n",
       "  0.05356372892856598,\n",
       "  0.10199195891618729,\n",
       "  0.07090067863464355,\n",
       "  0.08783691376447678,\n",
       "  0.05974292382597923,\n",
       "  0.019763654097914696,\n",
       "  0.08741529285907745,\n",
       "  0.06581465899944305,\n",
       "  0.14239735901355743,\n",
       "  0.09609236568212509,\n",
       "  0.07691332697868347,\n",
       "  0.009362496435642242,\n",
       "  0.08447790145874023,\n",
       "  0.047602154314517975,\n",
       "  0.03342074900865555,\n",
       "  0.029031164944171906,\n",
       "  0.031035996973514557,\n",
       "  0.11341820657253265,\n",
       "  0.03990282863378525,\n",
       "  0.06793735176324844,\n",
       "  0.04121233522891998,\n",
       "  0.04511697590351105,\n",
       "  0.04711274802684784,\n",
       "  0.046132832765579224,\n",
       "  0.019962545484304428,\n",
       "  0.030073877424001694,\n",
       "  0.017462637275457382,\n",
       "  0.027234410867094994,\n",
       "  0.01396632008254528,\n",
       "  0.005428649485111237,\n",
       "  0.010382933542132378,\n",
       "  0.008230556733906269]}"
      ]
     },
     "execution_count": 2,
     "metadata": {},
     "output_type": "execute_result"
    }
   ],
   "source": [
    "df = pd.read_csv(\n",
    "        os.path.join('train.csv', 'train_200.csv')\n",
    "    )\n",
    "\n",
    "X = df['texte']\n",
    "y = df[df.columns[2:]].values\n",
    "MAX_FEATURES = 200000\n",
    "vectorizer = TextVectorization(max_tokens=MAX_FEATURES,\n",
    "                                output_sequence_length=1800,\n",
    "                                output_mode='int')\n",
    "vectorizer.adapt(X.values)\n",
    "vectorizer_text = vectorizer(X.values)\n",
    "dataset = tf.data.Dataset.from_tensor_slices((vectorizer_text,y))\n",
    "dataset = dataset.cache()\n",
    "dataset = dataset.shuffle(1600)\n",
    "dataset = dataset.batch(16)\n",
    "dataset = dataset.prefetch(8)\n",
    "\n",
    "train = dataset.take(int(len(dataset)*.7))\n",
    "val = dataset.skip(int(len(dataset)*.7)).take(int(len(dataset)*.2))\n",
    "test = dataset.skip(int(len(dataset)*.9)).take(int(len(dataset)*.1))\n",
    "\n",
    "from tensorflow.keras.models import Sequential\n",
    "from tensorflow.keras.layers import LSTM, Dropout, Bidirectional, Dense, Embedding\n",
    "\n",
    "model = Sequential()\n",
    "model.add(Embedding(MAX_FEATURES+1, 32))\n",
    "model.add(Bidirectional(LSTM(32,activation='tanh')))\n",
    "model.add(Dense(128, activation='relu'))\n",
    "model.add(Dense(256, activation='relu'))\n",
    "model.add(Dense(128, activation='relu'))\n",
    "model.add(Dense(4, activation='sigmoid'))\n",
    "\n",
    "model.compile(loss='BinaryCrossentropy', optimizer='Adam')\n",
    "model.summary()\n",
    "history = model.fit(train, epochs=50, validation_data=val)\n",
    "history.history"
   ]
  },
  {
   "cell_type": "code",
   "execution_count": 23,
   "id": "7dcac91d-f504-46e4-b36f-ad41a437a9e5",
   "metadata": {},
   "outputs": [],
   "source": [
    "proposition = vectorizer('ça fait une video trop drole' )\n"
   ]
  },
  {
   "cell_type": "code",
   "execution_count": 6,
   "id": "2470dd7f-1445-402b-a173-6b113dca75b0",
   "metadata": {},
   "outputs": [
    {
     "data": {
      "text/plain": [
       "Index(['toxique', 'obscene', 'menace', 'insulte'], dtype='object')"
      ]
     },
     "execution_count": 6,
     "metadata": {},
     "output_type": "execute_result"
    }
   ],
   "source": [
    "df.columns[2:]"
   ]
  },
  {
   "cell_type": "code",
   "execution_count": 24,
   "id": "5313561a-ed46-49ed-80dd-bce03e04b5a2",
   "metadata": {},
   "outputs": [
    {
     "name": "stdout",
     "output_type": "stream",
     "text": [
      "1/1 [==============================] - 0s 76ms/step\n"
     ]
    },
    {
     "data": {
      "text/plain": [
       "array([[2.0073911e-03, 1.3522818e-20, 2.1658478e-15, 1.9075213e-09]],\n",
       "      dtype=float32)"
      ]
     },
     "execution_count": 24,
     "metadata": {},
     "output_type": "execute_result"
    }
   ],
   "source": [
    "model.predict(np.expand_dims(proposition,0))"
   ]
  },
  {
   "cell_type": "code",
   "execution_count": 25,
   "id": "238d6888-4f35-48bf-bfa1-e7b0c8d84c1e",
   "metadata": {},
   "outputs": [
    {
     "name": "stdout",
     "output_type": "stream",
     "text": [
      "1/1 [==============================] - 0s 70ms/step\n"
     ]
    }
   ],
   "source": [
    "res = (model.predict(np.expand_dims(proposition,0)) > 0.5).astype(int)"
   ]
  },
  {
   "cell_type": "code",
   "execution_count": 26,
   "id": "39c3a946-13c3-4a0b-8f9c-01cb052afb88",
   "metadata": {},
   "outputs": [
    {
     "data": {
      "text/plain": [
       "array([[0, 0, 0, 0]])"
      ]
     },
     "execution_count": 26,
     "metadata": {},
     "output_type": "execute_result"
    }
   ],
   "source": [
    "res\n"
   ]
  },
  {
   "cell_type": "code",
   "execution_count": null,
   "id": "5717728c-dffc-4913-a159-38e8fc126fd7",
   "metadata": {},
   "outputs": [],
   "source": []
  }
 ],
 "metadata": {
  "kernelspec": {
   "display_name": "Python 3 (ipykernel)",
   "language": "python",
   "name": "python3"
  },
  "language_info": {
   "codemirror_mode": {
    "name": "ipython",
    "version": 3
   },
   "file_extension": ".py",
   "mimetype": "text/x-python",
   "name": "python",
   "nbconvert_exporter": "python",
   "pygments_lexer": "ipython3",
   "version": "3.11.5"
  }
 },
 "nbformat": 4,
 "nbformat_minor": 5
}
